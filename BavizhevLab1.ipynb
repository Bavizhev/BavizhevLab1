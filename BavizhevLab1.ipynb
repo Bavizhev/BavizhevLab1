{
  "nbformat": 4,
  "nbformat_minor": 0,
  "metadata": {
    "colab": {
      "provenance": []
    },
    "kernelspec": {
      "name": "python3",
      "display_name": "Python 3"
    },
    "language_info": {
      "name": "python"
    }
  },
  "cells": [
    {
      "cell_type": "code",
      "execution_count": 3,
      "metadata": {
        "colab": {
          "base_uri": "https://localhost:8080/"
        },
        "id": "W37CbUJ1_Au7",
        "outputId": "5ee24bda-97e3-4ccd-c96b-cc288d5e40cc"
      },
      "outputs": [
        {
          "output_type": "stream",
          "name": "stdout",
          "text": [
            "Введите количество яблоки: 5\n",
            "Введите количество бананы: 10\n",
            "Введите количество молоко: 2\n",
            "Сравнение цен в разных магазинах:\n",
            "Магазин Марген: Общая стоимость - 24.9 рублей\n",
            "Магазин Солнце: Общая стоимость - 20.0 рублей\n",
            "Магазин Дэнди: Общая стоимость - 28.8 рублей\n",
            "Сэкономьте больше всего, выбрав Магазин Солнце магазин!\n"
          ]
        }
      ],
      "source": [
        "# Создание структуры данных о ценах на товары в магазинах\n",
        "prices = {\n",
        "    \"Магазин Марген\": {\"яблоки\": 2.5, \"бананы\": 1.0, \"молоко\": 1.2},\n",
        "    \"Магазин Солнце\": {\"яблоки\": 2.0, \"бананы\": 0.8, \"молоко\": 1.0},\n",
        "    \"Магазин Дэнди\": {\"яблоки\": 2.8, \"бананы\": 1.2, \"молоко\": 1.4},\n",
        "}\n",
        "\n",
        "# Ввод списка товаров и количества, которое планируется купить\n",
        "shopping_list = {}\n",
        "for item in prices[\"Магазин Марген\"].keys():\n",
        "    quantity = int(input(f\"Введите количество {item}: \"))\n",
        "    shopping_list[item] = quantity\n",
        "\n",
        "# Расчет общей стоимости покупок в каждом магазине\n",
        "total_costs = {}\n",
        "for shop, item_prices in prices.items():\n",
        "    total_cost = sum(item_prices[item] * quantity for item, quantity in shopping_list.items())\n",
        "    total_costs[shop] = total_cost\n",
        "\n",
        "# Определение магазина с минимальной стоимостью\n",
        "cheapest_shop = min(total_costs, key=total_costs.get)\n",
        "\n",
        "# Вывод результатов\n",
        "print(\"Сравнение цен в разных магазинах:\")\n",
        "for shop, total_cost in total_costs.items():\n",
        "    print(f\"{shop}: Общая стоимость - {total_cost} рублей\")\n",
        "print(f\"Сэкономьте больше всего, выбрав {cheapest_shop} магазин!\")\n"
      ]
    }
  ]
}